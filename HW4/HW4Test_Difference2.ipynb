{
 "cells": [
  {
   "cell_type": "code",
   "execution_count": 21,
   "metadata": {},
   "outputs": [],
   "source": [
    "import numpy as np\n",
    "import itertools\n",
    "trials = 200\n",
    "N = 50\n",
    "k = 6\n",
    "b = 4 \n",
    "score,decision = run(N,b,k,trials,reward_type = 0)\n",
    "\n",
    "\n",
    "# Generate all combinations of num_elements that sum to target_sum\n",
    "result = []\n",
    "    \n",
    "    # Use combinations_with_replacement to generate numbers that sum to target_sum\n",
    "for combination in itertools.combinations_with_replacement(range(N+1), k):\n",
    "        if sum(combination) == N:\n",
    "            result.append(combination)\n",
    "\n",
    "combinations = result\n",
    "# Print the first 5 results to check\n",
    "for comb in combinations[:5]:\n",
    "    #print(comb)\n",
    "    pass"
   ]
  },
  {
   "cell_type": "code",
   "execution_count": 22,
   "metadata": {},
   "outputs": [
    {
     "name": "stdout",
     "output_type": "stream",
     "text": [
      "\n",
      "Found Nash Equilibrium at:\n",
      "[ 0 10 10 10 10 10]\n",
      "\n",
      "Found Nash Equilibrium at:\n",
      "[8 8 8 8 9 9]\n"
     ]
    }
   ],
   "source": [
    "#Individual Reward  \n",
    "for comb in combinations:\n",
    "    decision = np.array(comb)\n",
    "    Nash = True\n",
    "    for agent_no,total in enumerate(decision):\n",
    "        Score = total*np.exp(-total/b)\n",
    "        #print(decision)\n",
    "        current_total = total\n",
    "        #print(decision_new)\n",
    "        #print(Score)\n",
    "        #print(agent_no)\n",
    "        if total == 0:\n",
    "            continue\n",
    "        decision[agent_no] = decision[agent_no] -1\n",
    "        for i in range(len(decision)):\n",
    "            #decision_new[i] = decision[i]+1\n",
    "            #Calc reward\n",
    "            New_decision_Total = decision[i]+1\n",
    "            Reward = New_decision_Total*np.exp(-New_decision_Total/b)\n",
    "            \n",
    "            if Reward>Score:\n",
    "                Nash = False\n",
    "                #print(agent_no)\n",
    "                #print(i)\n",
    "                #print(New_decision_Total)\n",
    "                #print(Score)\n",
    "                #print(Reward)\n",
    "        decision[agent_no] = decision[agent_no] +1\n",
    "    if Nash==True:\n",
    "        print(\"\\nFound Nash Equilibrium at:\")\n",
    "        print(decision)\n",
    "    \n"
   ]
  },
  {
   "cell_type": "code",
   "execution_count": 23,
   "metadata": {},
   "outputs": [
    {
     "name": "stdout",
     "output_type": "stream",
     "text": [
      "\n",
      "Found Nash Equilibrium at:\n",
      "[ 4  4  4  4  4 30]\n"
     ]
    }
   ],
   "source": [
    "#Global Reward \n",
    "decision_new = np.zeros(k) \n",
    "for comb in combinations:\n",
    "    decision = np.array(comb)\n",
    "    Nash = True\n",
    "    Score = 0\n",
    "    #Do global instead of individual\n",
    "    for agent,total_count in enumerate(decision):\n",
    "        Score = total_count*np.exp(-total_count/b) +Score\n",
    "    for agent_no,total in enumerate(decision):\n",
    "        #Score = total*np.exp(-total/b)\n",
    "        #print(decision)\n",
    "        current_total = total\n",
    "        #print(decision_new)\n",
    "        #print(Score)\n",
    "        #print(agent_no)\n",
    "        if total == 0:\n",
    "            continue\n",
    "            \n",
    "        decision[agent_no] = decision[agent_no] -1\n",
    "        for i in range(len(decision)):\n",
    "            decision_new = decision.copy()\n",
    "            #Calc reward\n",
    "            Total_count = decision[i].copy()\n",
    "            decision_new[i] = Total_count+1\n",
    "            #Reward = New_decision_Total*np.exp(-New_decision_Total/b)\n",
    "            Reward = 0\n",
    "            #Now calculate global reward\n",
    "            for agent_no_rew,total_count_2 in enumerate(decision_new):\n",
    "                Reward = total_count_2*np.exp(-total_count_2/b) +Reward\n",
    "                \n",
    "            #print(Reward)\n",
    "            #print(decision)\n",
    "            #print(Score)\n",
    "            #print(decision_new)\n",
    "            if Reward>Score:\n",
    "                #print(agent_no)\n",
    "                #print(comb)\n",
    "                Nash = False\n",
    "                #print(agent_no)\n",
    "                #print(i)\n",
    "                #print(decision)\n",
    "            \n",
    "                \n",
    "            \n",
    "        decision[agent_no] = decision[agent_no] +1\n",
    "        #print(Score)\n",
    "    if Nash==True:\n",
    "        print(\"\\nFound Nash Equilibrium at:\")\n",
    "        print(decision)\n",
    "        \n",
    "        pass\n",
    "        "
   ]
  },
  {
   "cell_type": "code",
   "execution_count": 24,
   "metadata": {},
   "outputs": [
    {
     "name": "stdout",
     "output_type": "stream",
     "text": [
      "\n",
      "Found Nash Equilibrium at:\n",
      "[ 4  4  4  4  4 30]\n"
     ]
    }
   ],
   "source": [
    "#Part 3\n",
    "#Counterfactual \n",
    "for comb in combinations:\n",
    "    decision = np.array(comb)\n",
    "    Nash = True\n",
    "    for agent_no,total in enumerate(decision):\n",
    "        Score = total*np.exp(-total/b)-(total-1)*np.exp(-(total-1)/b)\n",
    "        #print(decision)\n",
    "        current_total = total\n",
    "        #print(decision_new)\n",
    "        #print(Score)\n",
    "        #print(agent_no)\n",
    "        if total == 0:\n",
    "            continue\n",
    "        decision[agent_no] = decision[agent_no] -1\n",
    "        for i in range(len(decision)):\n",
    "            #decision_new[i] = decision[i]+1\n",
    "            #Calc reward\n",
    "            New_decision_Total = decision[i]+1\n",
    "            Reward = New_decision_Total*np.exp(-New_decision_Total/b)-(New_decision_Total-1)*np.exp(-(New_decision_Total-1)/b)\n",
    "            \n",
    "            if Reward>Score:\n",
    "                Nash = False\n",
    "                #print(agent_no)\n",
    "                #print(i)\n",
    "                #print(New_decision_Total)\n",
    "                #print(Score)\n",
    "                #print(Reward)\n",
    "        decision[agent_no] = decision[agent_no] +1\n",
    "    if Nash==True:\n",
    "        print(\"\\nFound Nash Equilibrium at:\")\n",
    "        print(decision)"
   ]
  }
 ],
 "metadata": {
  "kernelspec": {
   "display_name": "base",
   "language": "python",
   "name": "python3"
  },
  "language_info": {
   "codemirror_mode": {
    "name": "ipython",
    "version": 3
   },
   "file_extension": ".py",
   "mimetype": "text/x-python",
   "name": "python",
   "nbconvert_exporter": "python",
   "pygments_lexer": "ipython3",
   "version": "3.12.4"
  }
 },
 "nbformat": 4,
 "nbformat_minor": 2
}
