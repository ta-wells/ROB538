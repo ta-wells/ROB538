{
 "cells": [
  {
   "cell_type": "code",
   "execution_count": null,
   "metadata": {},
   "outputs": [],
   "source": [
    "#Imports\n",
    "import numpy as np"
   ]
  },
  {
   "cell_type": "code",
   "execution_count": null,
   "metadata": {},
   "outputs": [
    {
     "name": "stdout",
     "output_type": "stream",
     "text": [
      "50\n",
      "49\n",
      "49\n",
      "49\n",
      "49\n",
      "49\n"
     ]
    }
   ],
   "source": [
    "N = 50\n",
    "b = 4\n",
    "k = 6\n",
    "Nash_list = []\n",
    "#To compute the nash equilibrium, I will make an array of possible choices \n",
    "#Start with all choosing same day, \n",
    "Agent_choice = np.zeros(N)\n",
    "Agent_choice_new = np.zeros(N)\n",
    "Reward = 0\n",
    "Reward_new = 0\n",
    "Count = 0\n",
    "Count_new = 0\n",
    "while Agent_choice[N-1]<6:\n",
    "    #Compute reward for first case\n",
    "    for i in range(N):\n",
    "        for n in range k:\n",
    "            Agent_choice[i] = i\n",
    "\n",
    "    \n",
    "    \n",
    "    #Count = (Agent_choice == Agent_choice[0]).sum()\n",
    "    #Reward = Count*np.exp(-Count/b)\n",
    "    \n",
    "                        \n",
    "\n",
    "            \n"
   ]
  },
  {
   "cell_type": "code",
   "execution_count": null,
   "metadata": {},
   "outputs": [
    {
     "name": "stdout",
     "output_type": "stream",
     "text": [
      "0.7788007830714049\n"
     ]
    }
   ],
   "source": []
  }
 ],
 "metadata": {
  "kernelspec": {
   "display_name": "base",
   "language": "python",
   "name": "python3"
  },
  "language_info": {
   "codemirror_mode": {
    "name": "ipython",
    "version": 3
   },
   "file_extension": ".py",
   "mimetype": "text/x-python",
   "name": "python",
   "nbconvert_exporter": "python",
   "pygments_lexer": "ipython3",
   "version": "3.12.4"
  }
 },
 "nbformat": 4,
 "nbformat_minor": 2
}
